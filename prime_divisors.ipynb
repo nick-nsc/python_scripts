{
 "cells": [
  {
   "cell_type": "code",
   "execution_count": 15,
   "metadata": {},
   "outputs": [
    {
     "name": "stdout",
     "output_type": "stream",
     "text": [
      "Prime factors of 74657842710 are: \n",
      "2 , count: 1\n",
      "3 , count: 1\n",
      "5 , count: 1\n",
      "11 , count: 1\n",
      "226235887 , count: 1\n"
     ]
    }
   ],
   "source": [
    "# original code by mits (geeksforgeeks), customized by nick-nsc\n",
    "\n",
    "import math\n",
    " \n",
    "# Function to calculate all the prime factors and count of every prime factor\n",
    "def factorize(n):\n",
    "    count = 0;\n",
    " \n",
    "    # count the number of times 2 divides\n",
    "    while ((n % 2 > 0) == False):\n",
    "         \n",
    "        # equivalent to n = n / 2;\n",
    "        n >>= 1;\n",
    "        count += 1;\n",
    " \n",
    "    # if 2 divides it\n",
    "    if (count > 0):\n",
    "        print(2, \", count:\", count);\n",
    " \n",
    "    # check for all the possible numbers that can divide it\n",
    "    for i in range(3, int(math.sqrt(n)) + 1):\n",
    "        count = 0;\n",
    "        while (n % i == 0):\n",
    "            count += 1;\n",
    "            n = int(n / i);\n",
    "        if (count > 0):\n",
    "            print(i, \", count:\", count);\n",
    "        i += 2;\n",
    " \n",
    "    # if n at the end is a prime number.\n",
    "    if (n > 2):\n",
    "        print(n, \", count:\", 1);\n",
    "    \n",
    "# Driver Code\n",
    "n = 74657842710;\n",
    "print(\"Prime factors of {} are: \".format(n))\n",
    "factorize(n);\n"
   ]
  }
 ],
 "metadata": {
  "interpreter": {
   "hash": "41fd6e9c8ccdc31439b6fce4ac53e8f0593617b13fd8b35fa7d07344463cee0c"
  },
  "kernelspec": {
   "display_name": "Python 3.10.0 64-bit",
   "language": "python",
   "name": "python3"
  },
  "language_info": {
   "codemirror_mode": {
    "name": "ipython",
    "version": 3
   },
   "file_extension": ".py",
   "mimetype": "text/x-python",
   "name": "python",
   "nbconvert_exporter": "python",
   "pygments_lexer": "ipython3",
   "version": "3.10.0"
  },
  "orig_nbformat": 4
 },
 "nbformat": 4,
 "nbformat_minor": 2
}
