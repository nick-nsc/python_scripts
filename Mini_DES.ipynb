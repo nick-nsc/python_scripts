{
 "cells": [
  {
   "cell_type": "markdown",
   "metadata": {},
   "source": [
    "# Mini-DES: A simpler version of DES\n",
    "## Implementation in python"
   ]
  },
  {
   "cell_type": "code",
   "execution_count": 121,
   "metadata": {},
   "outputs": [],
   "source": [
    "# imports\n",
    "import numpy as np"
   ]
  },
  {
   "cell_type": "code",
   "execution_count": 122,
   "metadata": {},
   "outputs": [],
   "source": [
    "# define the keys (e1, e2) and the s-boxes (s1, s2) here\n",
    "e1 = np.array([1,0,0,1,1,0])\n",
    "e2 = np.array([0,0,1,1,1,0])\n",
    "s1 = np.array([[0,3,1,2],[2,3,0,1]])\n",
    "s2 = np.array([[2,1,3,0],[0,1,2,3]])"
   ]
  },
  {
   "cell_type": "code",
   "execution_count": 123,
   "metadata": {},
   "outputs": [],
   "source": [
    "# get the text from the user; output: an array of integers marking each character of the message\n",
    "def getMessageAsInts():\n",
    "  message = input(\"Enter your message: \")\n",
    "  message = bytes(message, 'utf-8')\n",
    "  message = np.array(bytearray(message))\n",
    "  return message"
   ]
  },
  {
   "cell_type": "code",
   "execution_count": 124,
   "metadata": {},
   "outputs": [],
   "source": [
    "# takes 4 bits and expands them to a 6-bit long sequence\n",
    "def expand(bits):\n",
    "  expanded = np.array([])\n",
    "  expanded = np.append(expanded, bits[0])\n",
    "  expanded = np.append(expanded, bits[3])\n",
    "  expanded = np.append(expanded, bits[2])\n",
    "  expanded = np.append(expanded, bits[1])\n",
    "  expanded = np.append(expanded, bits[3])\n",
    "  expanded = np.append(expanded, bits[0])\n",
    "  return expanded"
   ]
  },
  {
   "cell_type": "code",
   "execution_count": 125,
   "metadata": {},
   "outputs": [],
   "source": [
    "# XOR gate for bit sequences; output: a bitstring with the length of bits1 and bits2\n",
    "def XOR(bits1, bits2):\n",
    "  if(len(bits1)!=len(bits2)):\n",
    "    print(\"ERROR: XOR: sequences are not the same length.\")\n",
    "    exit(1)\n",
    "  else:\n",
    "    result = np.array([])\n",
    "    for x in range(len(bits1)):\n",
    "      result = np.append(result, int(bits1[x]) ^ int(bits2[x]))\n",
    "    return result"
   ]
  },
  {
   "cell_type": "code",
   "execution_count": 126,
   "metadata": {},
   "outputs": [],
   "source": [
    "# SBoxes() takes 6 bits and processes them with the help of the s-boxes; output: 4 bits\n",
    "def SBoxes(bits):\n",
    "  firstHalf = bits[:3]\n",
    "  secondHalf = bits[3:]\n",
    "  result = \"\"\n",
    "\n",
    "  result1 = bin(s1[int(firstHalf[0])][int(firstHalf[1]*2+firstHalf[2])])[2:].zfill(2)\n",
    "  result2 = bin(s2[int(secondHalf[0])][int(secondHalf[1]*2+secondHalf[2])])[2:].zfill(2)\n",
    "\n",
    "  result = result1 + result2\n",
    "\n",
    "  return result"
   ]
  },
  {
   "cell_type": "code",
   "execution_count": 127,
   "metadata": {},
   "outputs": [],
   "source": [
    "# verbose encryption routine\n",
    "def encryptBits(bits):\n",
    "  left = bits[:4]\n",
    "  right = bits[4:]\n",
    "  temp = np.array([]) # temp holds the temporary result\n",
    "  bits_encrypted = \"\" # bits_encrypted holds the final result\n",
    "\n",
    "  # Mini-DES algorithm, first round\n",
    "  temp = expand(right)\n",
    "  temp = XOR(temp, e1)\n",
    "  temp = SBoxes(temp)\n",
    "  temp = XOR(left, temp)\n",
    "  left = right\n",
    "  right = temp\n",
    "  # second round\n",
    "  temp = expand(right)\n",
    "  temp = XOR(temp, e2)\n",
    "  temp = SBoxes(temp)\n",
    "  temp = XOR(left, temp)\n",
    "  left = right\n",
    "  right = temp\n",
    "\n",
    "  # merge left and right half into a string (8-bit long)\n",
    "  for b in left:\n",
    "    bits_encrypted += str(int(b))\n",
    "  for b in right:\n",
    "    bits_encrypted += str(int(b))\n",
    "\n",
    "  return bits_encrypted"
   ]
  },
  {
   "cell_type": "code",
   "execution_count": 128,
   "metadata": {},
   "outputs": [],
   "source": [
    "# verbose decryption routine\n",
    "def decryptBits(bits):\n",
    "  left = bits[:4]\n",
    "  right = bits [4:]\n",
    "  temp = np.array([]) # temp holds the temporary result\n",
    "  bits_decrypted = \"\" # bits_decrypted holds the final result\n",
    "\n",
    "  # Mini-DES, now with reversed order of the keys\n",
    "  temp = expand(left)\n",
    "  temp = XOR(temp, e2)\n",
    "  temp = SBoxes(temp)\n",
    "  temp = XOR(temp, right)\n",
    "  right = left\n",
    "  left = temp\n",
    "\n",
    "  temp = expand(left)\n",
    "  temp = XOR(temp, e1)\n",
    "  temp = SBoxes(temp)\n",
    "  temp = XOR(temp, right)\n",
    "  right = left\n",
    "  left = temp\n",
    "\n",
    "  # merge left and right half into a string (8-bit long)\n",
    "  for b in left:\n",
    "    bits_decrypted += str(int(b))\n",
    "  for b in right:\n",
    "    bits_decrypted += str(int(b))\n",
    "\n",
    "  return bits_decrypted"
   ]
  },
  {
   "cell_type": "markdown",
   "metadata": {},
   "source": [
    "### Now let's encrypt a message:"
   ]
  },
  {
   "cell_type": "code",
   "execution_count": 129,
   "metadata": {},
   "outputs": [
    {
     "name": "stdout",
     "output_type": "stream",
     "text": [
      "Message in numbers       : [ 84 104 105 115  32 105 115  32  97  32 116 101 115 116  33]\n",
      "Message in bits          : 010101000110100001101001011100110010000001101001011100110010000001100001001000000111010001100101011100110111010000100001\n",
      "Encrypted message in bits: 111011000101001000111101001101111000111100111101001101111000111101100010100011111100100001001010001101111100100000100011\n"
     ]
    }
   ],
   "source": [
    "msg_integers = getMessageAsInts()\n",
    "msg_encrypted = \"\"\n",
    "msg_encoded = \"\"\n",
    "\n",
    "for integer in msg_integers:\n",
    "  bits = bin(integer)       # convert integer to binary string\n",
    "  bits = bits[2:].zfill(8)  # remove '0b' and pad the string with zeros on the left; bits is now 8-bit long\n",
    "  msg_encoded += bits\n",
    "  bits_encrypted = encryptBits(bits)  # bits_encrypted is a 8-bit long binary string as well\n",
    "  msg_encrypted += bits_encrypted\n",
    "\n",
    "print(\"Message in numbers       :\", msg_integers)\n",
    "print(\"Message in bits          :\", msg_encoded)\n",
    "print(\"Encrypted message in bits:\", msg_encrypted)"
   ]
  },
  {
   "cell_type": "markdown",
   "metadata": {},
   "source": [
    "### Decrypt the encrypted message:"
   ]
  },
  {
   "cell_type": "code",
   "execution_count": 130,
   "metadata": {},
   "outputs": [
    {
     "name": "stdout",
     "output_type": "stream",
     "text": [
      "Decrypted message: This is a test!\n"
     ]
    }
   ],
   "source": [
    "msg_decrypted = \"\"\n",
    "\n",
    "for i in range(0, len(msg_encrypted), 8):\n",
    "  substring = msg_encrypted[i:i+8]\n",
    "  substring_decrypted = decryptBits(substring)\n",
    "  substring_decrypted = chr(int(substring_decrypted,2)) # convert 8-bit long bitstring to char (utf-8)\n",
    "  msg_decrypted += substring_decrypted\n",
    "\n",
    "print(\"Decrypted message:\", msg_decrypted)"
   ]
  },
  {
   "cell_type": "markdown",
   "metadata": {},
   "source": [
    "### What you get when you decode the encrypted message without decrypting it:"
   ]
  },
  {
   "cell_type": "code",
   "execution_count": 131,
   "metadata": {},
   "outputs": [
    {
     "name": "stdout",
     "output_type": "stream",
     "text": [
      "Encrypted message decoded: ìR=7=7bÈJ7È#\n"
     ]
    }
   ],
   "source": [
    "msg_encrypted_decoded = \"\"\n",
    "\n",
    "for i in range(0, len(msg_encrypted), 8):\n",
    "  substring = msg_encrypted[i:i+8]\n",
    "  substring_decoded = chr(int(substring,2)) # convert 8-bit long bitstring to char (utf-8)\n",
    "  msg_encrypted_decoded += substring_decoded\n",
    "\n",
    "print(\"Encrypted message decoded:\", msg_encrypted_decoded)"
   ]
  }
 ],
 "metadata": {
  "interpreter": {
   "hash": "41fd6e9c8ccdc31439b6fce4ac53e8f0593617b13fd8b35fa7d07344463cee0c"
  },
  "kernelspec": {
   "display_name": "Python 3.10.0 64-bit",
   "language": "python",
   "name": "python3"
  },
  "language_info": {
   "codemirror_mode": {
    "name": "ipython",
    "version": 3
   },
   "file_extension": ".py",
   "mimetype": "text/x-python",
   "name": "python",
   "nbconvert_exporter": "python",
   "pygments_lexer": "ipython3",
   "version": "3.10.0"
  },
  "orig_nbformat": 4
 },
 "nbformat": 4,
 "nbformat_minor": 2
}
